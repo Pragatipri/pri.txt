{
  "nbformat": 4,
  "nbformat_minor": 0,
  "metadata": {
    "colab": {
      "provenance": [],
      "authorship_tag": "ABX9TyMzlyUaaoCLYRdT2p/TsyTd",
      "include_colab_link": true
    },
    "kernelspec": {
      "name": "python3",
      "display_name": "Python 3"
    },
    "language_info": {
      "name": "python"
    }
  },
  "cells": [
    {
      "cell_type": "markdown",
      "metadata": {
        "id": "view-in-github",
        "colab_type": "text"
      },
      "source": [
        "<a href=\"https://colab.research.google.com/github/Pragatipri/pri.txt/blob/test/Test.ipynb\" target=\"_parent\"><img src=\"https://colab.research.google.com/assets/colab-badge.svg\" alt=\"Open In Colab\"/></a>"
      ]
    },
    {
      "cell_type": "code",
      "execution_count": 3,
      "metadata": {
        "colab": {
          "base_uri": "https://localhost:8080/"
        },
        "id": "pkL9IQLWgcUQ",
        "outputId": "8ff647a0-e4b4-4d75-985d-a670c723c535"
      },
      "outputs": [
        {
          "output_type": "execute_result",
          "data": {
            "text/plain": [
              "array([ 2,  7, 11, 15])"
            ]
          },
          "metadata": {},
          "execution_count": 3
        }
      ],
      "source": [
        "import numpy as np\n",
        "my_array = np.array([2,7,11,15])\n",
        "my_array"
      ]
    },
    {
      "cell_type": "code",
      "source": [
        "#for i in range(len(my_array)):\n",
        " # if i + i == 9:\n",
        "  # print(i)"
      ],
      "metadata": {
        "id": "UJRnC9Z_hG8m"
      },
      "execution_count": 8,
      "outputs": []
    },
    {
      "cell_type": "code",
      "source": [
        "def checking_sum(a,b):\n",
        "  if a + b == 9:\n",
        "    print (my_array[a], my_array[b])\n",
        "\n",
        "checking_sum(0,1)"
      ],
      "metadata": {
        "id": "_evf1UgmhiGK"
      },
      "execution_count": 10,
      "outputs": []
    },
    {
      "cell_type": "code",
      "source": [
        "import numpy as np\n",
        "\n",
        "my_array = np.array([2, 7, 11, 15])\n",
        "\n",
        "def checking_sum(a, b):\n",
        "    if my_array[a] + my_array[b] == 9:  # Use values at indices\n",
        "        print(my_array[a], my_array[b])\n",
        "\n",
        "checking_sum(0, 1)"
      ],
      "metadata": {
        "colab": {
          "base_uri": "https://localhost:8080/"
        },
        "id": "ym0kwCj9iMvv",
        "outputId": "bd35eba0-0b21-4126-b20a-a18bf1670238"
      },
      "execution_count": 11,
      "outputs": [
        {
          "output_type": "stream",
          "name": "stdout",
          "text": [
            "2 7\n"
          ]
        }
      ]
    },
    {
      "cell_type": "code",
      "source": [
        "my_list = [\"apples\", \"pears\", \"oranges\", \"fruits\"]\n",
        "count = 0\n",
        "for elements in my_list:\n",
        "    print(elements)\n",
        "    if count == 1:\n",
        "      print (\"count is 1\")\n",
        "\n",
        "    count = count + 1"
      ],
      "metadata": {
        "colab": {
          "base_uri": "https://localhost:8080/"
        },
        "id": "GhyPyLDujmF7",
        "outputId": "d4855ae8-7fb1-41c6-8de4-ec924f96c28c"
      },
      "execution_count": 2,
      "outputs": [
        {
          "output_type": "stream",
          "name": "stdout",
          "text": [
            "apples\n",
            "pears\n",
            "count is 1\n",
            "oranges\n",
            "fruits\n"
          ]
        }
      ]
    },
    {
      "cell_type": "code",
      "source": [
        "for x in range(len(my_list)):\n",
        "  print(my_list[x])\n",
        "  if x == 1:\n",
        "    print (\"x is 1\")"
      ],
      "metadata": {
        "colab": {
          "base_uri": "https://localhost:8080/"
        },
        "id": "apjLQulrO2cV",
        "outputId": "82deb178-3c0c-478a-d443-dd1e781d53cb"
      },
      "execution_count": 6,
      "outputs": [
        {
          "output_type": "stream",
          "name": "stdout",
          "text": [
            "apples\n",
            "pears\n",
            "x is 1\n",
            "oranges\n",
            "fruits\n"
          ]
        }
      ]
    },
    {
      "cell_type": "code",
      "source": [
        "for x, element in enumerate (my_list):\n",
        "  print (x, element)"
      ],
      "metadata": {
        "colab": {
          "base_uri": "https://localhost:8080/"
        },
        "id": "_ED8pWGCPbpD",
        "outputId": "3fab9274-349e-425f-c086-fb2540937d56"
      },
      "execution_count": 7,
      "outputs": [
        {
          "output_type": "stream",
          "name": "stdout",
          "text": [
            "0 apples\n",
            "1 pears\n",
            "2 oranges\n",
            "3 fruits\n"
          ]
        }
      ]
    },
    {
      "cell_type": "code",
      "source": [
        "enumerate(my_list)"
      ],
      "metadata": {
        "colab": {
          "base_uri": "https://localhost:8080/"
        },
        "id": "vRqfe_rHP09D",
        "outputId": "4a04da4c-5c88-46db-cd02-207efcde91df"
      },
      "execution_count": 9,
      "outputs": [
        {
          "output_type": "execute_result",
          "data": {
            "text/plain": [
              "<enumerate at 0x781890683790>"
            ]
          },
          "metadata": {},
          "execution_count": 9
        }
      ]
    },
    {
      "cell_type": "code",
      "source": [
        "for index, element in enumerate(my_list):\n",
        "  print(index, element)"
      ],
      "metadata": {
        "colab": {
          "base_uri": "https://localhost:8080/"
        },
        "id": "frSMAUCVU1mN",
        "outputId": "050c7fa6-19f4-4cc0-ff81-dea3d0fb6bf4"
      },
      "execution_count": 10,
      "outputs": [
        {
          "output_type": "stream",
          "name": "stdout",
          "text": [
            "0 apples\n",
            "1 pears\n",
            "2 oranges\n",
            "3 fruits\n"
          ]
        }
      ]
    },
    {
      "cell_type": "code",
      "source": [],
      "metadata": {
        "id": "YmLAL0YneR55"
      },
      "execution_count": null,
      "outputs": []
    },
    {
      "cell_type": "code",
      "source": [
        "new_list = [2,7,11,15]\n",
        "\n",
        "for index, element in enumerate(new_list):\n",
        "  if element + element == 9:\n",
        "    print(index, index)\n",
        "  elif element + element != 9:\n",
        "    print(\"no match\")\n",
        ""
      ],
      "metadata": {
        "colab": {
          "base_uri": "https://localhost:8080/"
        },
        "id": "HTlrnttoVJ6P",
        "outputId": "76a59f77-fe44-40d9-c540-7e4dd2eab3d9"
      },
      "execution_count": 16,
      "outputs": [
        {
          "output_type": "stream",
          "name": "stdout",
          "text": [
            "no match\n",
            "no match\n",
            "no match\n",
            "no match\n"
          ]
        }
      ]
    },
    {
      "cell_type": "code",
      "source": [
        "for i in range(len(new_list)):\n",
        "  for j in range(i+1, len(new_list)):\n",
        "    if new_list[i] + new_list[j] == 9:\n",
        "      print(i, j)"
      ],
      "metadata": {
        "colab": {
          "base_uri": "https://localhost:8080/"
        },
        "id": "eiNgfFfkWXhF",
        "outputId": "1417fd13-d10b-48d9-fe80-3cb79884b0df"
      },
      "execution_count": 17,
      "outputs": [
        {
          "output_type": "stream",
          "name": "stdout",
          "text": [
            "0 1\n"
          ]
        }
      ]
    },
    {
      "cell_type": "code",
      "source": [
        "new_list = [2,7,11,15]\n",
        "target = 9\n",
        "list_dic = {}\n",
        "\n",
        "for i, element in enumerate(new_list):\n",
        "  if target - element in list_dic:\n",
        "    print(list_dic[target - element], i)\n",
        "  else :\n",
        "    list_dic[element] = i"
      ],
      "metadata": {
        "colab": {
          "base_uri": "https://localhost:8080/"
        },
        "id": "KL166QdfZs0Q",
        "outputId": "db4c4bfe-f5ad-4157-f10d-676d1a9fc8e1"
      },
      "execution_count": 24,
      "outputs": [
        {
          "output_type": "stream",
          "name": "stdout",
          "text": [
            "0 1\n"
          ]
        }
      ]
    },
    {
      "cell_type": "code",
      "source": [],
      "metadata": {
        "id": "Byhqhk88aRjG"
      },
      "execution_count": null,
      "outputs": []
    }
  ]
}